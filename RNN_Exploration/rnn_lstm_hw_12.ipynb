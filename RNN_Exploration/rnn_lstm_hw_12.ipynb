{
  "nbformat": 4,
  "nbformat_minor": 0,
  "metadata": {
    "colab": {
      "name": "hw12_no_code.ipynb",
      "provenance": [],
      "collapsed_sections": []
    },
    "kernelspec": {
      "name": "python3",
      "display_name": "Python 3"
    },
    "language_info": {
      "name": "python"
    },
    "accelerator": "GPU"
  },
  "cells": [
    {
      "cell_type": "markdown",
      "metadata": {
        "id": "view-in-github"
      },
      "source": [
        "<a href=\"https://colab.research.google.com/gist/qbeer/e52ec7f519dfc2fa12583fa3b497769d/hw12_no_code.ipynb\" target=\"_parent\"><img src=\"https://colab.research.google.com/assets/colab-badge.svg\" alt=\"Open In Colab\"/></a>"
      ]
    },
    {
      "cell_type": "markdown",
      "metadata": {
        "id": "HGAmCco5lyIU"
      },
      "source": [
        "## 1. Word2Vec (something like that) embeddings\n",
        "\n",
        "* Read the GloVE file into word - vector pairs \n",
        "* Create a 2D-embedding with PCA for the 10_000 nearest neighbors (based on L2 distance) for the word 'dog'.\n",
        "* Visualize the 2 dimensional embeddings on a plot and add text annotations to it\n",
        "  * 'dog' should be red\n",
        "  * only add the nearast 50 neighbors\n",
        "  * add an alpha (.3) to the 10_000 points (too much to visualize well with text)\n",
        "\n",
        "## 2. IMDB reviews with word embeddings\n",
        "\n",
        "Load the 'imdb_review' dataset from 'tf.keras.datasets.imdb' an convert each sentence into a sequence of its GloVe representations. This will generate (n_samples, sample_length, 50) dimensional dataset. \n",
        "\n",
        "  * mean your input along the `sample_length` axis -> this generates a dataset useable to the MLP -> (n_samples, 50)\n",
        "    * you are basically generating a mean representation of the sentence\n",
        "  * handle your OOV (out of vocabulary) tokens with e.g. np.zeros(50) -> this does not influence the mean much\n",
        "\n",
        "Loading the data:\n",
        "\n",
        "  * `(x_train, y_train), (x_test, y_test) = tf.keras.datasets.imdb.load_data(\n",
        "    path=\"imdb.npz\",\n",
        "    num_words=None,\n",
        "    skip_top=0,\n",
        "    maxlen=150,\n",
        "    seed=113,\n",
        "    start_char=1,\n",
        "    oov_char=2,\n",
        "    index_from=3\n",
        ")`\n",
        "  * do the preprocessing this way, this makes the dataset ~9'000 samples large and the maximum length is only 150 words\n",
        "  * the dataset is represented as index values, so you need to convert twice: index -> word -> GloVe\n",
        "    * the index-to-word conversion is achievable by Keras, read the documentation\n",
        "\n",
        "Model defintion:\n",
        "  * `Dense(256, relu)`,\n",
        "  * `Dense(64, relu)`,\n",
        "  * `Dense(1, sigmoid)`\n",
        "\n",
        "Use default parameters in the compile: 'adam', 'binary_crossentropy', 'accuracy' metric. Train for 20-25 epochs.\n",
        "\n",
        "***Hint: approximately 55-60% accuracy is achieveable on the test set.***\n",
        "\n",
        "## 3. Sequence modeling with LSTM\n",
        "\n",
        "  * use the IMDB dataset again converted into GloVe sequences but without the mean operation. This way you are going to generate (n_samples, sequence_length, 50) sample points with different sequence lengths\n",
        "  * pad every sequence to `150` in length with np.zeros(50) -> (n_samples, 150, 50)\n",
        "  * LSTM is a recurrent model with intricate inner operations, if you use it in a bideractional fashion, your sequence will be processed from both ends\n",
        "\n",
        "Model definition:\n",
        "  * `BidirectionalLSTM(64, return_sequences=True),`\n",
        "  * `BidirectionalLSTM(64),`\n",
        "  * `Dense(64, relu)`,\n",
        "  * `Dense(1, sigmoid)`\n",
        "\n",
        "Use default parameters in the compile: 'adam', 'binary_crossentropy', 'accuracy' metric. Train for 20-25 epochs.\n",
        "\n",
        "***Hint: approximately 65-70% accuracy is achieveable on the test set.***"
      ]
    },
    {
      "cell_type": "markdown",
      "metadata": {
        "id": "0GtoBIN-CpAq"
      },
      "source": [
        "# Installing dependencies"
      ]
    },
    {
      "cell_type": "code",
      "metadata": {
        "colab": {
          "base_uri": "https://localhost:8080/"
        },
        "id": "YYZLElPjCn0j",
        "outputId": "92713b2e-c589-4b11-8314-d26ed1874839"
      },
      "source": [
        "\n",
        "!pip install tensorflow-text"
      ],
      "execution_count": 1,
      "outputs": [
        {
          "output_type": "stream",
          "name": "stdout",
          "text": [
            "Collecting tensorflow-text\n",
            "  Downloading tensorflow_text-2.7.3-cp37-cp37m-manylinux2010_x86_64.whl (4.9 MB)\n",
            "\u001b[K     |████████████████████████████████| 4.9 MB 5.6 MB/s \n",
            "\u001b[?25hRequirement already satisfied: tensorflow<2.8,>=2.7.0 in /usr/local/lib/python3.7/dist-packages (from tensorflow-text) (2.7.0)\n",
            "Requirement already satisfied: tensorflow-hub>=0.8.0 in /usr/local/lib/python3.7/dist-packages (from tensorflow-text) (0.12.0)\n",
            "Requirement already satisfied: tensorflow-io-gcs-filesystem>=0.21.0 in /usr/local/lib/python3.7/dist-packages (from tensorflow<2.8,>=2.7.0->tensorflow-text) (0.22.0)\n",
            "Requirement already satisfied: libclang>=9.0.1 in /usr/local/lib/python3.7/dist-packages (from tensorflow<2.8,>=2.7.0->tensorflow-text) (12.0.0)\n",
            "Requirement already satisfied: opt-einsum>=2.3.2 in /usr/local/lib/python3.7/dist-packages (from tensorflow<2.8,>=2.7.0->tensorflow-text) (3.3.0)\n",
            "Requirement already satisfied: absl-py>=0.4.0 in /usr/local/lib/python3.7/dist-packages (from tensorflow<2.8,>=2.7.0->tensorflow-text) (0.12.0)\n",
            "Requirement already satisfied: keras<2.8,>=2.7.0rc0 in /usr/local/lib/python3.7/dist-packages (from tensorflow<2.8,>=2.7.0->tensorflow-text) (2.7.0)\n",
            "Requirement already satisfied: flatbuffers<3.0,>=1.12 in /usr/local/lib/python3.7/dist-packages (from tensorflow<2.8,>=2.7.0->tensorflow-text) (2.0)\n",
            "Requirement already satisfied: wheel<1.0,>=0.32.0 in /usr/local/lib/python3.7/dist-packages (from tensorflow<2.8,>=2.7.0->tensorflow-text) (0.37.0)\n",
            "Requirement already satisfied: tensorboard~=2.6 in /usr/local/lib/python3.7/dist-packages (from tensorflow<2.8,>=2.7.0->tensorflow-text) (2.7.0)\n",
            "Requirement already satisfied: astunparse>=1.6.0 in /usr/local/lib/python3.7/dist-packages (from tensorflow<2.8,>=2.7.0->tensorflow-text) (1.6.3)\n",
            "Requirement already satisfied: protobuf>=3.9.2 in /usr/local/lib/python3.7/dist-packages (from tensorflow<2.8,>=2.7.0->tensorflow-text) (3.17.3)\n",
            "Requirement already satisfied: numpy>=1.14.5 in /usr/local/lib/python3.7/dist-packages (from tensorflow<2.8,>=2.7.0->tensorflow-text) (1.19.5)\n",
            "Requirement already satisfied: typing-extensions>=3.6.6 in /usr/local/lib/python3.7/dist-packages (from tensorflow<2.8,>=2.7.0->tensorflow-text) (3.10.0.2)\n",
            "Requirement already satisfied: keras-preprocessing>=1.1.1 in /usr/local/lib/python3.7/dist-packages (from tensorflow<2.8,>=2.7.0->tensorflow-text) (1.1.2)\n",
            "Requirement already satisfied: termcolor>=1.1.0 in /usr/local/lib/python3.7/dist-packages (from tensorflow<2.8,>=2.7.0->tensorflow-text) (1.1.0)\n",
            "Requirement already satisfied: tensorflow-estimator<2.8,~=2.7.0rc0 in /usr/local/lib/python3.7/dist-packages (from tensorflow<2.8,>=2.7.0->tensorflow-text) (2.7.0)\n",
            "Requirement already satisfied: google-pasta>=0.1.1 in /usr/local/lib/python3.7/dist-packages (from tensorflow<2.8,>=2.7.0->tensorflow-text) (0.2.0)\n",
            "Requirement already satisfied: wrapt>=1.11.0 in /usr/local/lib/python3.7/dist-packages (from tensorflow<2.8,>=2.7.0->tensorflow-text) (1.13.3)\n",
            "Requirement already satisfied: six>=1.12.0 in /usr/local/lib/python3.7/dist-packages (from tensorflow<2.8,>=2.7.0->tensorflow-text) (1.15.0)\n",
            "Requirement already satisfied: grpcio<2.0,>=1.24.3 in /usr/local/lib/python3.7/dist-packages (from tensorflow<2.8,>=2.7.0->tensorflow-text) (1.42.0)\n",
            "Requirement already satisfied: gast<0.5.0,>=0.2.1 in /usr/local/lib/python3.7/dist-packages (from tensorflow<2.8,>=2.7.0->tensorflow-text) (0.4.0)\n",
            "Requirement already satisfied: h5py>=2.9.0 in /usr/local/lib/python3.7/dist-packages (from tensorflow<2.8,>=2.7.0->tensorflow-text) (3.1.0)\n",
            "Requirement already satisfied: cached-property in /usr/local/lib/python3.7/dist-packages (from h5py>=2.9.0->tensorflow<2.8,>=2.7.0->tensorflow-text) (1.5.2)\n",
            "Requirement already satisfied: requests<3,>=2.21.0 in /usr/local/lib/python3.7/dist-packages (from tensorboard~=2.6->tensorflow<2.8,>=2.7.0->tensorflow-text) (2.23.0)\n",
            "Requirement already satisfied: werkzeug>=0.11.15 in /usr/local/lib/python3.7/dist-packages (from tensorboard~=2.6->tensorflow<2.8,>=2.7.0->tensorflow-text) (1.0.1)\n",
            "Requirement already satisfied: google-auth<3,>=1.6.3 in /usr/local/lib/python3.7/dist-packages (from tensorboard~=2.6->tensorflow<2.8,>=2.7.0->tensorflow-text) (1.35.0)\n",
            "Requirement already satisfied: markdown>=2.6.8 in /usr/local/lib/python3.7/dist-packages (from tensorboard~=2.6->tensorflow<2.8,>=2.7.0->tensorflow-text) (3.3.6)\n",
            "Requirement already satisfied: tensorboard-plugin-wit>=1.6.0 in /usr/local/lib/python3.7/dist-packages (from tensorboard~=2.6->tensorflow<2.8,>=2.7.0->tensorflow-text) (1.8.0)\n",
            "Requirement already satisfied: google-auth-oauthlib<0.5,>=0.4.1 in /usr/local/lib/python3.7/dist-packages (from tensorboard~=2.6->tensorflow<2.8,>=2.7.0->tensorflow-text) (0.4.6)\n",
            "Requirement already satisfied: tensorboard-data-server<0.7.0,>=0.6.0 in /usr/local/lib/python3.7/dist-packages (from tensorboard~=2.6->tensorflow<2.8,>=2.7.0->tensorflow-text) (0.6.1)\n",
            "Requirement already satisfied: setuptools>=41.0.0 in /usr/local/lib/python3.7/dist-packages (from tensorboard~=2.6->tensorflow<2.8,>=2.7.0->tensorflow-text) (57.4.0)\n",
            "Requirement already satisfied: rsa<5,>=3.1.4 in /usr/local/lib/python3.7/dist-packages (from google-auth<3,>=1.6.3->tensorboard~=2.6->tensorflow<2.8,>=2.7.0->tensorflow-text) (4.8)\n",
            "Requirement already satisfied: pyasn1-modules>=0.2.1 in /usr/local/lib/python3.7/dist-packages (from google-auth<3,>=1.6.3->tensorboard~=2.6->tensorflow<2.8,>=2.7.0->tensorflow-text) (0.2.8)\n",
            "Requirement already satisfied: cachetools<5.0,>=2.0.0 in /usr/local/lib/python3.7/dist-packages (from google-auth<3,>=1.6.3->tensorboard~=2.6->tensorflow<2.8,>=2.7.0->tensorflow-text) (4.2.4)\n",
            "Requirement already satisfied: requests-oauthlib>=0.7.0 in /usr/local/lib/python3.7/dist-packages (from google-auth-oauthlib<0.5,>=0.4.1->tensorboard~=2.6->tensorflow<2.8,>=2.7.0->tensorflow-text) (1.3.0)\n",
            "Requirement already satisfied: importlib-metadata>=4.4 in /usr/local/lib/python3.7/dist-packages (from markdown>=2.6.8->tensorboard~=2.6->tensorflow<2.8,>=2.7.0->tensorflow-text) (4.8.2)\n",
            "Requirement already satisfied: zipp>=0.5 in /usr/local/lib/python3.7/dist-packages (from importlib-metadata>=4.4->markdown>=2.6.8->tensorboard~=2.6->tensorflow<2.8,>=2.7.0->tensorflow-text) (3.6.0)\n",
            "Requirement already satisfied: pyasn1<0.5.0,>=0.4.6 in /usr/local/lib/python3.7/dist-packages (from pyasn1-modules>=0.2.1->google-auth<3,>=1.6.3->tensorboard~=2.6->tensorflow<2.8,>=2.7.0->tensorflow-text) (0.4.8)\n",
            "Requirement already satisfied: chardet<4,>=3.0.2 in /usr/local/lib/python3.7/dist-packages (from requests<3,>=2.21.0->tensorboard~=2.6->tensorflow<2.8,>=2.7.0->tensorflow-text) (3.0.4)\n",
            "Requirement already satisfied: idna<3,>=2.5 in /usr/local/lib/python3.7/dist-packages (from requests<3,>=2.21.0->tensorboard~=2.6->tensorflow<2.8,>=2.7.0->tensorflow-text) (2.10)\n",
            "Requirement already satisfied: certifi>=2017.4.17 in /usr/local/lib/python3.7/dist-packages (from requests<3,>=2.21.0->tensorboard~=2.6->tensorflow<2.8,>=2.7.0->tensorflow-text) (2021.10.8)\n",
            "Requirement already satisfied: urllib3!=1.25.0,!=1.25.1,<1.26,>=1.21.1 in /usr/local/lib/python3.7/dist-packages (from requests<3,>=2.21.0->tensorboard~=2.6->tensorflow<2.8,>=2.7.0->tensorflow-text) (1.24.3)\n",
            "Requirement already satisfied: oauthlib>=3.0.0 in /usr/local/lib/python3.7/dist-packages (from requests-oauthlib>=0.7.0->google-auth-oauthlib<0.5,>=0.4.1->tensorboard~=2.6->tensorflow<2.8,>=2.7.0->tensorflow-text) (3.1.1)\n",
            "Installing collected packages: tensorflow-text\n",
            "Successfully installed tensorflow-text-2.7.3\n"
          ]
        }
      ]
    },
    {
      "cell_type": "markdown",
      "metadata": {
        "id": "hp1Xaoddh0bx"
      },
      "source": [
        "# Importing a lot of stuff that I am not going to use half of them."
      ]
    },
    {
      "cell_type": "code",
      "metadata": {
        "id": "TZsHHq3c8KpZ",
        "colab": {
          "base_uri": "https://localhost:8080/"
        },
        "outputId": "72f658d7-58cf-4bc2-bfaf-3c9fa0564cd1"
      },
      "source": [
        "import tensorflow as tf\n",
        "import numpy as np\n",
        "\n",
        "import nltk\n",
        "nltk.download('stopwords')\n",
        "\n",
        "from nltk.corpus import stopwords\n",
        "import string\n",
        "from keras.datasets import imdb\n",
        "from keras.preprocessing import sequence\n",
        "from tensorflow.keras import layers\n",
        "from tensorflow.keras import losses\n",
        "from tensorflow.keras import utils\n",
        "from tensorflow.keras.layers import TextVectorization\n",
        "import math as mt\n",
        "from math import sqrt\n",
        "\n",
        "import matplotlib.pyplot as plt\n",
        "import sklearn as sk\n",
        "from sklearn import datasets\n",
        "from sklearn.model_selection import train_test_split\n",
        "from sklearn.decomposition import PCA\n",
        "from sklearn.discriminant_analysis import LinearDiscriminantAnalysis\n",
        "from sklearn.neighbors import KNeighborsClassifier, NeighborhoodComponentsAnalysis\n",
        "from sklearn.pipeline import make_pipeline\n",
        "from sklearn.preprocessing import StandardScaler\n",
        "\n",
        "import tensorflow_datasets as tfds"
      ],
      "execution_count": 2,
      "outputs": [
        {
          "output_type": "stream",
          "name": "stdout",
          "text": [
            "[nltk_data] Downloading package stopwords to /root/nltk_data...\n",
            "[nltk_data]   Unzipping corpora/stopwords.zip.\n"
          ]
        }
      ]
    },
    {
      "cell_type": "markdown",
      "metadata": {
        "id": "9HHizOhC8H3C"
      },
      "source": [
        "# Fetching the file from my google drive."
      ]
    },
    {
      "cell_type": "markdown",
      "metadata": {
        "id": "A4Zu93LZ6viJ"
      },
      "source": [
        "#### Mounting the GOOGLE DRIVE to the '/content/drive' in the VM"
      ]
    },
    {
      "cell_type": "code",
      "metadata": {
        "id": "w-CgB860lzJp",
        "colab": {
          "base_uri": "https://localhost:8080/"
        },
        "outputId": "152ab746-990c-40dc-f138-5ee090e11c3e"
      },
      "source": [
        "from google.colab import drive\n",
        "drive.mount('/content/drive')"
      ],
      "execution_count": 3,
      "outputs": [
        {
          "output_type": "stream",
          "name": "stdout",
          "text": [
            "Mounted at /content/drive\n"
          ]
        }
      ]
    },
    {
      "cell_type": "markdown",
      "metadata": {
        "id": "XEnIBpPS9lRg"
      },
      "source": [
        "#### Checking if the file exists on my drive"
      ]
    },
    {
      "cell_type": "code",
      "metadata": {
        "colab": {
          "base_uri": "https://localhost:8080/"
        },
        "id": "SqFZG6oY8oWr",
        "outputId": "07866d6b-643c-4b66-b15c-7ca2473a55eb"
      },
      "source": [
        "!ls /content/drive/MyDrive/Colab\\ Notebooks"
      ],
      "execution_count": 4,
      "outputs": [
        {
          "output_type": "stream",
          "name": "stdout",
          "text": [
            " b.npy\t\t     'hw9_raw (1).ipynb'   w.npy\t y_train.npy\n",
            " glove.6B.50d.txt     hw9_raw.ipynb\t   X_test.npy\n",
            " hw11_no_code.ipynb   Untitled0.ipynb\t   X_train.npy\n",
            " hw12_no_code.ipynb   Untitled1.ipynb\t   y_test.npy\n"
          ]
        }
      ]
    },
    {
      "cell_type": "markdown",
      "metadata": {
        "id": "HK3lzu779pGn"
      },
      "source": [
        "#### Loaoding The Glove68 file from the drive."
      ]
    },
    {
      "cell_type": "code",
      "metadata": {
        "id": "H20Uu5Y4-aOx"
      },
      "source": [
        "with open(\"/content/drive/MyDrive/Colab Notebooks/glove.6B.50d.txt\",\"r\") as f:\n",
        "    gloove68_vector_file_text = np.array(f.read())"
      ],
      "execution_count": 5,
      "outputs": []
    },
    {
      "cell_type": "markdown",
      "metadata": {
        "id": "rzcTKIe3Dc8a"
      },
      "source": [
        "#### Splitting the vocabularies lines into lists"
      ]
    },
    {
      "cell_type": "code",
      "metadata": {
        "id": "5ihD02g7BpmQ"
      },
      "source": [
        "gloove68_vector_file_text_newLined = str(gloove68_vector_file_text).split('\\n')"
      ],
      "execution_count": 6,
      "outputs": []
    },
    {
      "cell_type": "code",
      "metadata": {
        "colab": {
          "base_uri": "https://localhost:8080/",
          "height": 87
        },
        "id": "_NtE0M88DUmG",
        "outputId": "999d9dc9-d945-4995-83f7-1955fbe70736"
      },
      "source": [
        "gloove68_vector_file_text_newLined[0]"
      ],
      "execution_count": 7,
      "outputs": [
        {
          "output_type": "execute_result",
          "data": {
            "application/vnd.google.colaboratory.intrinsic+json": {
              "type": "string"
            },
            "text/plain": [
              "'the 0.418 0.24968 -0.41242 0.1217 0.34527 -0.044457 -0.49688 -0.17862 -0.00066023 -0.6566 0.27843 -0.14767 -0.55677 0.14658 -0.0095095 0.011658 0.10204 -0.12792 -0.8443 -0.12181 -0.016801 -0.33279 -0.1552 -0.23131 -0.19181 -1.8823 -0.76746 0.099051 -0.42125 -0.19526 4.0071 -0.18594 -0.52287 -0.31681 0.00059213 0.0074449 0.17778 -0.15897 0.012041 -0.054223 -0.29871 -0.15749 -0.34758 -0.045637 -0.44251 0.18785 0.0027849 -0.18411 -0.11514 -0.78581'"
            ]
          },
          "metadata": {},
          "execution_count": 7
        }
      ]
    },
    {
      "cell_type": "markdown",
      "metadata": {
        "id": "E6xDgoERDmmG"
      },
      "source": [
        "#### Vectorizing the data in the gloove68 (vector encoding)"
      ]
    },
    {
      "cell_type": "code",
      "metadata": {
        "id": "lNsgqDYqDwJn"
      },
      "source": [
        "gloove68_vectors = { str(vocab_vec).split(' ')[0] : np.array(str(vocab_vec).split(' ')[1:], dtype='float64')  for vocab_vec in gloove68_vector_file_text_newLined}  "
      ],
      "execution_count": 8,
      "outputs": []
    },
    {
      "cell_type": "code",
      "metadata": {
        "colab": {
          "base_uri": "https://localhost:8080/"
        },
        "id": "LFwh63plfZM5",
        "outputId": "a8c9f880-dca0-4f9a-f7e8-368b44a812e7"
      },
      "source": [
        "gloove68_vectors['the']"
      ],
      "execution_count": 9,
      "outputs": [
        {
          "output_type": "execute_result",
          "data": {
            "text/plain": [
              "array([ 4.1800e-01,  2.4968e-01, -4.1242e-01,  1.2170e-01,  3.4527e-01,\n",
              "       -4.4457e-02, -4.9688e-01, -1.7862e-01, -6.6023e-04, -6.5660e-01,\n",
              "        2.7843e-01, -1.4767e-01, -5.5677e-01,  1.4658e-01, -9.5095e-03,\n",
              "        1.1658e-02,  1.0204e-01, -1.2792e-01, -8.4430e-01, -1.2181e-01,\n",
              "       -1.6801e-02, -3.3279e-01, -1.5520e-01, -2.3131e-01, -1.9181e-01,\n",
              "       -1.8823e+00, -7.6746e-01,  9.9051e-02, -4.2125e-01, -1.9526e-01,\n",
              "        4.0071e+00, -1.8594e-01, -5.2287e-01, -3.1681e-01,  5.9213e-04,\n",
              "        7.4449e-03,  1.7778e-01, -1.5897e-01,  1.2041e-02, -5.4223e-02,\n",
              "       -2.9871e-01, -1.5749e-01, -3.4758e-01, -4.5637e-02, -4.4251e-01,\n",
              "        1.8785e-01,  2.7849e-03, -1.8411e-01, -1.1514e-01, -7.8581e-01])"
            ]
          },
          "metadata": {},
          "execution_count": 9
        }
      ]
    },
    {
      "cell_type": "markdown",
      "metadata": {
        "id": "hgZAxfeOgJJD"
      },
      "source": [
        "# Using PCA to get N neighbors to word 'dog'\n",
        "   <ol>\n",
        "    <li>We get the N nearest words to 'dog' </li>\n",
        "    <li>We check if data needs scaling </li>\n",
        "    <li>We perform PCA on the data to reduce it to 2 dimensions</li>\n",
        "   </ol>"
      ]
    },
    {
      "cell_type": "markdown",
      "metadata": {
        "id": "JMNCwGmgtcLq"
      },
      "source": [
        "* Observed that we have some words that have 0 length (Maybe because of spacing error or another error). Therefore, we will filter the data out."
      ]
    },
    {
      "cell_type": "code",
      "metadata": {
        "colab": {
          "base_uri": "https://localhost:8080/"
        },
        "id": "OskKoYbjjjS6",
        "outputId": "faf6ec39-7f72-4078-8a8d-5795a7c06436"
      },
      "source": [
        "# Seperating words from their vectors\n",
        "\n",
        "words = []\n",
        "vectors = []\n",
        "\n",
        "gloove68_vectors_filtered = {}\n",
        "\n",
        "for i, word in enumerate(gloove68_vectors):\n",
        "  if(len(gloove68_vectors[word]) > 0):\n",
        "    gloove68_vectors_filtered[word] = gloove68_vectors[word]\n",
        "    words.append(word)\n",
        "    vectors.append(list(gloove68_vectors[word]))\n",
        "\n",
        "words = np.array(words, dtype='str')\n",
        "vectors = np.array(vectors)\n",
        "\n",
        "\n",
        "print(words[:5], vectors[:5])"
      ],
      "execution_count": 10,
      "outputs": [
        {
          "output_type": "stream",
          "name": "stdout",
          "text": [
            "['the' ',' '.' 'of' 'to'] [[ 4.1800e-01  2.4968e-01 -4.1242e-01  1.2170e-01  3.4527e-01 -4.4457e-02\n",
            "  -4.9688e-01 -1.7862e-01 -6.6023e-04 -6.5660e-01  2.7843e-01 -1.4767e-01\n",
            "  -5.5677e-01  1.4658e-01 -9.5095e-03  1.1658e-02  1.0204e-01 -1.2792e-01\n",
            "  -8.4430e-01 -1.2181e-01 -1.6801e-02 -3.3279e-01 -1.5520e-01 -2.3131e-01\n",
            "  -1.9181e-01 -1.8823e+00 -7.6746e-01  9.9051e-02 -4.2125e-01 -1.9526e-01\n",
            "   4.0071e+00 -1.8594e-01 -5.2287e-01 -3.1681e-01  5.9213e-04  7.4449e-03\n",
            "   1.7778e-01 -1.5897e-01  1.2041e-02 -5.4223e-02 -2.9871e-01 -1.5749e-01\n",
            "  -3.4758e-01 -4.5637e-02 -4.4251e-01  1.8785e-01  2.7849e-03 -1.8411e-01\n",
            "  -1.1514e-01 -7.8581e-01]\n",
            " [ 1.3441e-02  2.3682e-01 -1.6899e-01  4.0951e-01  6.3812e-01  4.7709e-01\n",
            "  -4.2852e-01 -5.5641e-01 -3.6400e-01 -2.3938e-01  1.3001e-01 -6.3734e-02\n",
            "  -3.9575e-01 -4.8162e-01  2.3291e-01  9.0201e-02 -1.3324e-01  7.8639e-02\n",
            "  -4.1634e-01 -1.5428e-01  1.0068e-01  4.8891e-01  3.1226e-01 -1.2520e-01\n",
            "  -3.7512e-02 -1.5179e+00  1.2612e-01 -2.4420e-02 -4.2961e-02 -2.8351e-01\n",
            "   3.5416e+00 -1.1956e-01 -1.4533e-02 -1.4990e-01  2.1864e-01 -3.3412e-01\n",
            "  -1.3872e-01  3.1806e-01  7.0358e-01  4.4858e-01 -8.0262e-02  6.3003e-01\n",
            "   3.2111e-01 -4.6765e-01  2.2786e-01  3.6034e-01 -3.7818e-01 -5.6657e-01\n",
            "   4.4691e-02  3.0392e-01]\n",
            " [ 1.5164e-01  3.0177e-01 -1.6763e-01  1.7684e-01  3.1719e-01  3.3973e-01\n",
            "  -4.3478e-01 -3.1086e-01 -4.4999e-01 -2.9486e-01  1.6608e-01  1.1963e-01\n",
            "  -4.1328e-01 -4.2353e-01  5.9868e-01  2.8825e-01 -1.1547e-01 -4.1848e-02\n",
            "  -6.7989e-01 -2.5063e-01  1.8472e-01  8.6876e-02  4.6582e-01  1.5035e-02\n",
            "   4.3474e-02 -1.4671e+00 -3.0384e-01 -2.3441e-02  3.0589e-01 -2.1785e-01\n",
            "   3.7460e+00  4.2284e-03 -1.8436e-01 -4.6209e-01  9.8329e-02 -1.1907e-01\n",
            "   2.3919e-01  1.1610e-01  4.1705e-01  5.6763e-02 -6.3681e-05  6.8987e-02\n",
            "   8.7939e-02 -1.0285e-01 -1.3931e-01  2.2314e-01 -8.0803e-02 -3.5652e-01\n",
            "   1.6413e-02  1.0216e-01]\n",
            " [ 7.0853e-01  5.7088e-01 -4.7160e-01  1.8048e-01  5.4449e-01  7.2603e-01\n",
            "   1.8157e-01 -5.2393e-01  1.0381e-01 -1.7566e-01  7.8852e-02 -3.6216e-01\n",
            "  -1.1829e-01 -8.3336e-01  1.1917e-01 -1.6605e-01  6.1555e-02 -1.2719e-02\n",
            "  -5.6623e-01  1.3616e-02  2.2851e-01 -1.4396e-01 -6.7549e-02 -3.8157e-01\n",
            "  -2.3698e-01 -1.7037e+00 -8.6692e-01 -2.6704e-01 -2.5890e-01  1.7670e-01\n",
            "   3.8676e+00 -1.6130e-01 -1.3273e-01 -6.8881e-01  1.8444e-01  5.2464e-03\n",
            "  -3.3874e-01 -7.8956e-02  2.4185e-01  3.6576e-01 -3.4727e-01  2.8483e-01\n",
            "   7.5693e-02 -6.2178e-02 -3.8988e-01  2.2902e-01 -2.1617e-01 -2.2562e-01\n",
            "  -9.3918e-02 -8.0375e-01]\n",
            " [ 6.8047e-01 -3.9263e-02  3.0186e-01 -1.7792e-01  4.2962e-01  3.2246e-02\n",
            "  -4.1376e-01  1.3228e-01 -2.9847e-01 -8.5253e-02  1.7118e-01  2.2419e-01\n",
            "  -1.0046e-01 -4.3653e-01  3.3418e-01  6.7846e-01  5.7204e-02 -3.4448e-01\n",
            "  -4.2785e-01 -4.3275e-01  5.5963e-01  1.0032e-01  1.8677e-01 -2.6854e-01\n",
            "   3.7334e-02 -2.0932e+00  2.2171e-01 -3.9868e-01  2.0912e-01 -5.5725e-01\n",
            "   3.8826e+00  4.7466e-01 -9.5658e-01 -3.7788e-01  2.0869e-01 -3.2752e-01\n",
            "   1.2751e-01  8.8359e-02  1.6351e-01 -2.1634e-01 -9.4375e-02  1.8324e-02\n",
            "   2.1048e-01 -3.0880e-02 -1.9722e-01  8.2279e-02 -9.4340e-02 -7.3297e-02\n",
            "  -6.4699e-02 -2.6044e-01]]\n"
          ]
        }
      ]
    },
    {
      "cell_type": "code",
      "metadata": {
        "colab": {
          "base_uri": "https://localhost:8080/"
        },
        "id": "FQDgm-IOrjEj",
        "outputId": "e215f7ea-152b-49ef-ab25-0a6e04489189"
      },
      "source": [
        "lengths = [ len(gloove68_vectors_filtered[word]) for word in words]\n",
        "print(set(lengths))"
      ],
      "execution_count": 11,
      "outputs": [
        {
          "output_type": "stream",
          "name": "stdout",
          "text": [
            "{50}\n"
          ]
        }
      ]
    },
    {
      "cell_type": "markdown",
      "metadata": {
        "id": "UqUNsctGmmrl"
      },
      "source": [
        "<p>* Observation: Data are not normalized. </p>"
      ]
    },
    {
      "cell_type": "markdown",
      "metadata": {
        "id": "L3oyLY61mS7U"
      },
      "source": [
        "### 1) Extract the 10_000 nearest words to 'dog'"
      ]
    },
    {
      "cell_type": "code",
      "metadata": {
        "id": "BL9MXtTzmSQx"
      },
      "source": [
        "distance_from = 'dog'\n",
        "\n",
        "def getEucDist(word, target):\n",
        "    try:\n",
        "      dist = gloove68_vectors[word] - gloove68_vectors[target]\n",
        "      l1 = sum(np.multiply(dist,dist))\n",
        "      l2 = sqrt(l1)\n",
        "      return (word, l2)\n",
        "    except:\n",
        "      pass\n",
        "    "
      ],
      "execution_count": 12,
      "outputs": []
    },
    {
      "cell_type": "code",
      "metadata": {
        "colab": {
          "base_uri": "https://localhost:8080/"
        },
        "id": "XgJQ9HWwrXiq",
        "outputId": "06557cd7-95b7-46ce-c4e0-d7062bb8b757"
      },
      "source": [
        "words_distances = list(map(lambda inp: getEucDist(inp, distance_from), words))\n",
        "words_distances[:5]"
      ],
      "execution_count": 13,
      "outputs": [
        {
          "output_type": "execute_result",
          "data": {
            "text/plain": [
              "[('the', 5.048561644190463),\n",
              " (',', 4.974256182199534),\n",
              " ('.', 4.733128147158397),\n",
              " ('of', 5.5271654638313885),\n",
              " ('to', 5.241032672826919)]"
            ]
          },
          "metadata": {},
          "execution_count": 13
        }
      ]
    },
    {
      "cell_type": "code",
      "metadata": {
        "colab": {
          "base_uri": "https://localhost:8080/"
        },
        "id": "kHZeUfjHvUVF",
        "outputId": "3c9942ab-12bb-44a1-9b6b-1290407b85a3"
      },
      "source": [
        "sorted_distances = sorted(words_distances, key = lambda tup: tup[1] )\n",
        "sorted_distances[0:5]"
      ],
      "execution_count": 14,
      "outputs": [
        {
          "output_type": "execute_result",
          "data": {
            "text/plain": [
              "[('dog', 0.0),\n",
              " ('cat', 1.8846031066726727),\n",
              " ('dogs', 2.6515271208238262),\n",
              " ('puppy', 3.1496879009572654),\n",
              " ('rabbit', 3.18178726827622)]"
            ]
          },
          "metadata": {},
          "execution_count": 14
        }
      ]
    },
    {
      "cell_type": "code",
      "metadata": {
        "colab": {
          "base_uri": "https://localhost:8080/"
        },
        "id": "jAxRlyHow5d0",
        "outputId": "7045277b-e997-467b-f9f9-0623374a83fe"
      },
      "source": [
        "# Extracting the first 10_000 neighbours\n",
        "n_neighbors = 10000\n",
        "\n",
        "dog_neighbours = sorted_distances[0:n_neighbors+1]   # I included the dog as well\n",
        "print(len(dog_neighbours), dog_neighbours[:5])"
      ],
      "execution_count": 15,
      "outputs": [
        {
          "output_type": "stream",
          "name": "stdout",
          "text": [
            "10001 [('dog', 0.0), ('cat', 1.8846031066726727), ('dogs', 2.6515271208238262), ('puppy', 3.1496879009572654), ('rabbit', 3.18178726827622)]\n"
          ]
        }
      ]
    },
    {
      "cell_type": "code",
      "metadata": {
        "colab": {
          "base_uri": "https://localhost:8080/"
        },
        "id": "zoxgJy-Rx60C",
        "outputId": "4f59c1dc-c1aa-48b4-cefb-2d2e14a9abb2"
      },
      "source": [
        "dog_cluster_words = [ word for (word, dist) in dog_neighbours]\n",
        "print(len(dog_cluster_words), dog_cluster_words[:5])\n"
      ],
      "execution_count": 16,
      "outputs": [
        {
          "output_type": "stream",
          "name": "stdout",
          "text": [
            "10001 ['dog', 'cat', 'dogs', 'puppy', 'rabbit']\n"
          ]
        }
      ]
    },
    {
      "cell_type": "code",
      "metadata": {
        "colab": {
          "base_uri": "https://localhost:8080/"
        },
        "id": "1v3w6N6HyTDB",
        "outputId": "f975d1ea-58ea-4ea0-ce4b-c47acc51bf32"
      },
      "source": [
        "dog_cluster_vectors = [ gloove68_vectors[word] for word in dog_cluster_words]\n",
        "print(len(dog_cluster_vectors), dog_cluster_vectors[:2])"
      ],
      "execution_count": 17,
      "outputs": [
        {
          "output_type": "stream",
          "name": "stdout",
          "text": [
            "10001 [array([ 0.11008  , -0.38781  , -0.57615  , -0.27714  ,  0.70521  ,\n",
            "        0.53994  , -1.0786   , -0.40146  ,  1.1504   , -0.5678   ,\n",
            "        0.0038977,  0.52878  ,  0.64561  ,  0.47262  ,  0.48549  ,\n",
            "       -0.18407  ,  0.1801   ,  0.91397  , -1.1979   , -0.5778   ,\n",
            "       -0.37985  ,  0.33606  ,  0.772    ,  0.75555  ,  0.45506  ,\n",
            "       -1.7671   , -1.0503   ,  0.42566  ,  0.41893  , -0.68327  ,\n",
            "        1.5673   ,  0.27685  , -0.61708  ,  0.64638  , -0.076996 ,\n",
            "        0.37118  ,  0.1308   , -0.45137  ,  0.25398  , -0.74392  ,\n",
            "       -0.086199 ,  0.24068  , -0.64819  ,  0.83549  ,  1.2502   ,\n",
            "       -0.51379  ,  0.04224  , -0.88118  ,  0.7158   ,  0.38519  ]), array([ 0.45281 , -0.50108 , -0.53714 , -0.015697,  0.22191 ,  0.54602 ,\n",
            "       -0.67301 , -0.6891  ,  0.63493 , -0.19726 ,  0.33685 ,  0.7735  ,\n",
            "        0.90094 ,  0.38488 ,  0.38367 ,  0.2657  , -0.08057 ,  0.61089 ,\n",
            "       -1.2894  , -0.22313 , -0.61578 ,  0.21697 ,  0.35614 ,  0.44499 ,\n",
            "        0.60885 , -1.1633  , -1.1579  ,  0.36118 ,  0.10466 , -0.78325 ,\n",
            "        1.4352  ,  0.18629 , -0.26112 ,  0.83275 , -0.23123 ,  0.32481 ,\n",
            "        0.14485 , -0.44552 ,  0.33497 , -0.95946 , -0.097479,  0.48138 ,\n",
            "       -0.43352 ,  0.69455 ,  0.91043 , -0.28173 ,  0.41637 , -1.2609  ,\n",
            "        0.71278 ,  0.23782 ])]\n"
          ]
        }
      ]
    },
    {
      "cell_type": "markdown",
      "metadata": {
        "id": "NGsXeqRXvzRX"
      },
      "source": [
        "### 2) Apply PCA to reduce the dimensionality to 2.\n",
        "* Before applying PCA, we need to scale the data. Since as we observed, the data are not scaled.\n",
        "* We apply PCA to reduce the dimensionality of the 10_000 nearest points to 'dog'\n"
      ]
    },
    {
      "cell_type": "code",
      "metadata": {
        "id": "ZgLcuofTzs72"
      },
      "source": [
        "scaler_shell = StandardScaler()\n",
        "scaler = scaler_shell.fit(dog_cluster_vectors)\n",
        "scaled_dog_cluster_vectors = scaler.transform(dog_cluster_vectors)"
      ],
      "execution_count": 18,
      "outputs": []
    },
    {
      "cell_type": "code",
      "metadata": {
        "colab": {
          "base_uri": "https://localhost:8080/"
        },
        "id": "u1z7kI_8z7iY",
        "outputId": "630361c1-568e-4cf0-fe59-125601ea716f"
      },
      "source": [
        "print(scaled_dog_cluster_vectors[:1])\n",
        "print(\"Check if hte input was same as output after scalling\", scaled_dog_cluster_vectors == dog_cluster_vectors)"
      ],
      "execution_count": 19,
      "outputs": [
        {
          "output_type": "stream",
          "name": "stdout",
          "text": [
            "[[ 0.09913897 -0.36373774 -0.73549871 -0.04567345  0.98530208  0.68459602\n",
            "  -1.50409737 -0.65971249  2.02971461 -1.18904425  0.22145457  0.69042593\n",
            "   0.85941055  0.5161295   0.64914605 -0.40853975  0.29711422  1.34975963\n",
            "  -1.85063586 -0.66516594 -0.41078199  0.27924445  1.2060891   1.21761855\n",
            "   0.36454781 -1.9286097  -1.33488029  0.34462394  0.22010735 -0.81091855\n",
            "   0.78300562  0.26588904 -1.27070251  0.81461623 -0.08907356  0.37315979\n",
            "   0.45578131 -0.70925441  0.51253078 -1.08690327 -0.13564186  0.47765708\n",
            "  -0.93521753  0.92980731  1.88877051 -0.71057092 -0.16143689 -1.12401047\n",
            "   1.51018367  0.63311034]]\n",
            "Check if hte input was same as output after scalling [[False False False ... False False False]\n",
            " [False False False ... False False False]\n",
            " [False False False ... False False False]\n",
            " ...\n",
            " [False False False ... False False False]\n",
            " [False False False ... False False False]\n",
            " [False False False ... False False False]]\n"
          ]
        }
      ]
    },
    {
      "cell_type": "code",
      "metadata": {
        "id": "89fluhCuynD7"
      },
      "source": [
        "pca_shell = PCA(n_components=2, random_state=0)\n",
        "pca_model = pca_shell.fit(scaled_dog_cluster_vectors)"
      ],
      "execution_count": 20,
      "outputs": []
    },
    {
      "cell_type": "code",
      "metadata": {
        "id": "d7JYXjLv4byg"
      },
      "source": [
        "# 2dEmbed\n",
        "dog_cluster_vectors_2d = pca_model.transform(scaled_dog_cluster_vectors)"
      ],
      "execution_count": 21,
      "outputs": []
    },
    {
      "cell_type": "code",
      "metadata": {
        "colab": {
          "base_uri": "https://localhost:8080/",
          "height": 281
        },
        "id": "OxhW8oShgvJq",
        "outputId": "bfe8854e-0d59-49ad-dca7-66c0c8bad5b8"
      },
      "source": [
        "annot_neighbours = 50\n",
        "\n",
        "# Defining the plot\n",
        "fig, ax = plt.subplots()\n",
        "\n",
        "# Drawing the rest of the cluster\n",
        "ax.scatter(\n",
        "    dog_cluster_vectors_2d[annot_neighbours + 1:, 0],\n",
        "    dog_cluster_vectors_2d[annot_neighbours + 1:, 1],\n",
        "    c='gray', alpha=0.1)\n",
        "\n",
        "\n",
        "# Drawing hte 50 nearest words.\n",
        "ax.scatter( \n",
        "    dog_cluster_vectors_2d[1:annot_neighbours + 1, 0],\n",
        "    dog_cluster_vectors_2d[1:annot_neighbours + 1, 1],\n",
        "    c='b')\n",
        "ax.scatter(\n",
        "    dog_cluster_vectors_2d[0, 0],\n",
        "    dog_cluster_vectors_2d[0, 1],\n",
        "    c='r')\n",
        "for i, vec in enumerate(dog_cluster_vectors_2d[1:annot_neighbours + 1]):\n",
        "    ax.annotate(dog_cluster_words[i], (vec[0], vec[1]))\n",
        "\n",
        "plt.title(\"Nearest Neighbours to 'dog'\")\n",
        "plt.show()"
      ],
      "execution_count": 22,
      "outputs": [
        {
          "output_type": "display_data",
          "data": {
            "image/png": "[encoded data removed]",
            "text/plain": [
              "<Figure size 432x288 with 1 Axes>"
            ]
          },
          "metadata": {
            "needs_background": "light"
          }
        }
      ]
    },
    {
      "cell_type": "code",
      "metadata": {
        "id": "jiJM5eOR6Yrq"
      },
      "source": [
        ""
      ],
      "execution_count": 22,
      "outputs": []
    },
    {
      "cell_type": "markdown",
      "metadata": {
        "id": "ZVY_Al176Zvx"
      },
      "source": [
        "# 2) IMDB reviews with word embeddings"
      ]
    },
    {
      "cell_type": "markdown",
      "metadata": {
        "id": "d9ND4lJR9vkP"
      },
      "source": [
        "#### 2.1 Loading the data"
      ]
    },
    {
      "cell_type": "code",
      "metadata": {
        "id": "iYPmdbQ3-KO7"
      },
      "source": [
        "#(train_data, train_labels), (test_data, test_labels) = imdb.load_data(num_words = VOCAB_SIZE)"
      ],
      "execution_count": 23,
      "outputs": []
    },
    {
      "cell_type": "code",
      "metadata": {
        "colab": {
          "base_uri": "https://localhost:8080/"
        },
        "id": "H9krp5Dd6fWw",
        "outputId": "ef5339a3-0e05-4769-f48e-fe627d0727ce"
      },
      "source": [
        "MAXLEN = 150\n",
        "\n",
        "(x_train, y_train), (x_test, y_test) = tf.keras.datasets.imdb.load_data( \n",
        "    path=\"imdb.npz\",\n",
        "    num_words=None,\n",
        "    skip_top=0,\n",
        "    maxlen=150,\n",
        "    seed=113,\n",
        "    start_char=1,\n",
        "    oov_char=2,\n",
        "    index_from=3)\n",
        "print(x_train.shape)\n",
        "print(\"First element length is: \", len(x_train[0]))"
      ],
      "execution_count": 24,
      "outputs": [
        {
          "output_type": "stream",
          "name": "stdout",
          "text": [
            "Downloading data from https://storage.googleapis.com/tensorflow/tf-keras-datasets/imdb.npz\n",
            "17465344/17464789 [==============================] - 0s 0us/step\n",
            "17473536/17464789 [==============================] - 0s 0us/step\n",
            "(9290,)\n",
            "First element length is:  141\n"
          ]
        }
      ]
    },
    {
      "cell_type": "markdown",
      "metadata": {
        "id": "RDKEF5J89zw6"
      },
      "source": [
        "#### 2.2 Exploring the data and setting up the GLoVE for it."
      ]
    },
    {
      "cell_type": "markdown",
      "metadata": {
        "id": "px9g_nlP-ylZ"
      },
      "source": [
        "##### Notes \n",
        "  * we need function: sentences -> Sequence of GLoVE?\n",
        "\n",
        "  * GLoVE size = 50\n",
        "\n",
        "  * mean your input along the sample_length axis -> this generates a dataset useable to the MLP -> (n_samples, 50)\n",
        "\n",
        "\n",
        "  * Generating a mean representation\n",
        "    * handle out of vocabulary np.zeros(50)\n",
        "\n",
        "  * ~9'000 samples large and the maximum length is only 150 words\n",
        "    the dataset is represented as index values. map twice (index -> word -> GloVe).\n",
        "\n",
        "  * the index-to-word conversion is achievable by Keras, read the documentation\n",
        "\n",
        "\n",
        "\n",
        "\n",
        "\n"
      ]
    },
    {
      "cell_type": "code",
      "metadata": {
        "colab": {
          "base_uri": "https://localhost:8080/"
        },
        "id": "qlDiMKPplzUB",
        "outputId": "db87db81-5bff-4c78-a8d3-5969d9c0a25a"
      },
      "source": [
        "# Loading the word->index data.\n",
        "imdb_word_index = tf.keras.datasets.imdb.get_word_index(path='imdb_word_index.json')\n",
        "\n",
        "# Reverse the word index to obtain a dict mapping indices to words\n",
        "inverted_word_index = dict((i, word) for (word, i) in imdb_word_index.items())\n",
        "\n",
        "print(len(imdb_word_index))\n",
        "print(len(inverted_word_index))"
      ],
      "execution_count": 25,
      "outputs": [
        {
          "output_type": "stream",
          "name": "stdout",
          "text": [
            "Downloading data from https://storage.googleapis.com/tensorflow/tf-keras-datasets/imdb_word_index.json\n",
            "1646592/1641221 [==============================] - 0s 0us/step\n",
            "1654784/1641221 [==============================] - 0s 0us/step\n",
            "88584\n",
            "88584\n"
          ]
        }
      ]
    },
    {
      "cell_type": "code",
      "metadata": {
        "colab": {
          "base_uri": "https://localhost:8080/"
        },
        "id": "6AVfJCoXnKvO",
        "outputId": "ca80762a-0a21-4312-bef2-30ebef0d222d"
      },
      "source": [
        "# Decode the first sequence in the dataset\n",
        "decoded_sequence = \" \".join(inverted_word_index[i] for i in x_train[0])\n",
        "print(decoded_sequence)\n",
        "decoded_sequence = \" \".join(inverted_word_index[i] for i in x_train[1])\n",
        "print(decoded_sequence)"
      ],
      "execution_count": 26,
      "outputs": [
        {
          "output_type": "stream",
          "name": "stdout",
          "text": [
            "the as there in at by br of sure many br of proving no only women was than doesn't as you never of hat night that with ignored they bad out superman plays of how star so stories film comes defense date of wide they don't do that had with of hollywood br of my seeing fan this of pop out body shots in having because cause it's stick passing first were enjoys for from look seven sense from me superimposition die in character as cuban issues but is you that isn't one song just is him less are strongly not are you that different just even by this of you there is eight when it part are film's love film's 80's was big also light don't wrangling as it in character looked cinematography so stories is far br man acting\n",
            "the sure themes br only acting i i was favourite as on she they hat but already most was scares minor if flash was well also good 8 older was with enjoy used enjoy phone too i'm of you an job br only women than robot to was with these unexpected sure little sure guy sure on was one your life was children in particularly only yes she sort is jerry but so stories them final known to have does such most that supposed imagination very moving antonioni only yes this was seconds for imagination on this of reptiles to plays that nights to for supposed still been last fan always your bit that strong said clean knowing br theory to car masterpiece out in also show for film's was tale have flash but look part i'm film as to penelope is script hard br only acting\n"
          ]
        }
      ]
    },
    {
      "cell_type": "markdown",
      "metadata": {
        "id": "ezgaHyqkpdhJ"
      },
      "source": [
        "<br>"
      ]
    },
    {
      "cell_type": "markdown",
      "metadata": {
        "id": "AxZU8XDfpHKf"
      },
      "source": [
        "<h5>* Wrapping the decoding of the sequences (x_train) data into a function that outputs sentences from the given sequence of indices. Note that this function relies on \"inverted_word_index\" to be defined.</h5>"
      ]
    },
    {
      "cell_type": "code",
      "metadata": {
        "colab": {
          "base_uri": "https://localhost:8080/"
        },
        "id": "ihQ_DrcjoVlw",
        "outputId": "cee1fc0b-8a94-4348-9af0-7d7bcbcaee5c"
      },
      "source": [
        "def decodeSeqs(sequences):\n",
        "  dec_sentences = []\n",
        "  for enc_sentence in sequences:\n",
        "    dec_sent = \" \".join(inverted_word_index[i] for i in enc_sentence)\n",
        "    dec_sentences.append(dec_sent)\n",
        "  return dec_sentences\n",
        "\n",
        "print(\"First 2 sentences in the loaded data are: \")\n",
        "print(decodeSeqs(x_train[:2]))"
      ],
      "execution_count": 27,
      "outputs": [
        {
          "output_type": "stream",
          "name": "stdout",
          "text": [
            "First 2 sentences in the loaded data are: \n",
            "[\"the as there in at by br of sure many br of proving no only women was than doesn't as you never of hat night that with ignored they bad out superman plays of how star so stories film comes defense date of wide they don't do that had with of hollywood br of my seeing fan this of pop out body shots in having because cause it's stick passing first were enjoys for from look seven sense from me superimposition die in character as cuban issues but is you that isn't one song just is him less are strongly not are you that different just even by this of you there is eight when it part are film's love film's 80's was big also light don't wrangling as it in character looked cinematography so stories is far br man acting\", \"the sure themes br only acting i i was favourite as on she they hat but already most was scares minor if flash was well also good 8 older was with enjoy used enjoy phone too i'm of you an job br only women than robot to was with these unexpected sure little sure guy sure on was one your life was children in particularly only yes she sort is jerry but so stories them final known to have does such most that supposed imagination very moving antonioni only yes this was seconds for imagination on this of reptiles to plays that nights to for supposed still been last fan always your bit that strong said clean knowing br theory to car masterpiece out in also show for film's was tale have flash but look part i'm film as to penelope is script hard br only acting\"]\n"
          ]
        }
      ]
    },
    {
      "cell_type": "markdown",
      "metadata": {
        "id": "BBZ-jz3MrIDB"
      },
      "source": [
        "<h5>* We also need to define an encoding function for making our lives easier when cleaning the data. </h5>"
      ]
    },
    {
      "cell_type": "code",
      "metadata": {
        "colab": {
          "base_uri": "https://localhost:8080/"
        },
        "id": "xotj9O-RrHnD",
        "outputId": "ad513b3e-23e0-4cee-8755-0ca30f58284c"
      },
      "source": [
        "'''\n",
        "  Sequences are array of strings. Each string will be turned into a vector of indices.\n",
        "'''\n",
        "def encodeSeqs(sequences):\n",
        "  enc_sentences = []\n",
        "  for dec_sentence in sequences:\n",
        "    words_in_sentence = dec_sentence.split(' ')\n",
        "    dec_sent = [imdb_word_index[word] for word in words_in_sentence]\n",
        "    enc_sentences.append(dec_sent)\n",
        "  return enc_sentences\n",
        "\n",
        "temp = decodeSeqs(x_train[:2])\n",
        "print(\"First encoding the decoded 2 sentences that we saw in the previous cell: \")\n",
        "print(encodeSeqs(temp))\n",
        "\n",
        "print(\"---------------\")\n",
        "print(\"The first 2 sequences in the main data\")\n",
        "print(x_train[:2])\n",
        "\n",
        "print(\"---------------\")\n",
        "print(\"Comparing first elements of the encoded back sequence and the main data:\")\n",
        "print(x_train[0] == encodeSeqs(temp)[0])\n",
        "print(x_train[1] == encodeSeqs(temp)[1])"
      ],
      "execution_count": 28,
      "outputs": [
        {
          "output_type": "stream",
          "name": "stdout",
          "text": [
            "First encoding the decoded 2 sentences that we saw in the previous cell: \n",
            "[[1, 14, 47, 8, 30, 31, 7, 4, 249, 108, 7, 4, 5974, 54, 61, 369, 13, 71, 149, 14, 22, 112, 4, 2401, 311, 12, 16, 3711, 33, 75, 43, 1829, 296, 4, 86, 320, 35, 534, 19, 263, 4821, 1301, 4, 1873, 33, 89, 78, 12, 66, 16, 4, 360, 7, 4, 58, 316, 334, 11, 4, 1716, 43, 645, 662, 8, 257, 85, 1200, 42, 1228, 2578, 83, 68, 3912, 15, 36, 165, 1539, 278, 36, 69, 44076, 780, 8, 106, 14, 6905, 1338, 18, 6, 22, 12, 215, 28, 610, 40, 6, 87, 326, 23, 2300, 21, 23, 22, 12, 272, 40, 57, 31, 11, 4, 22, 47, 6, 2307, 51, 9, 170, 23, 595, 116, 595, 1352, 13, 191, 79, 638, 89, 51428, 14, 9, 8, 106, 607, 624, 35, 534, 6, 227, 7, 129, 113], [1, 249, 1323, 7, 61, 113, 10, 10, 13, 1637, 14, 20, 56, 33, 2401, 18, 457, 88, 13, 2626, 1400, 45, 3171, 13, 70, 79, 49, 706, 919, 13, 16, 355, 340, 355, 1696, 96, 143, 4, 22, 32, 289, 7, 61, 369, 71, 2359, 5, 13, 16, 131, 2073, 249, 114, 249, 229, 249, 20, 13, 28, 126, 110, 13, 473, 8, 569, 61, 419, 56, 429, 6, 1513, 18, 35, 534, 95, 474, 570, 5, 25, 124, 138, 88, 12, 421, 1543, 52, 725, 6397, 61, 419, 11, 13, 1571, 15, 1543, 20, 11, 4, 22016, 5, 296, 12, 3524, 5, 15, 421, 128, 74, 233, 334, 207, 126, 224, 12, 562, 298, 2167, 1272, 7, 2601, 5, 516, 988, 43, 8, 79, 120, 15, 595, 13, 784, 25, 3171, 18, 165, 170, 143, 19, 14, 5, 7224, 6, 226, 251, 7, 61, 113]]\n",
            "---------------\n",
            "The first 2 sequences in the main data\n",
            "[list([1, 14, 47, 8, 30, 31, 7, 4, 249, 108, 7, 4, 5974, 54, 61, 369, 13, 71, 149, 14, 22, 112, 4, 2401, 311, 12, 16, 3711, 33, 75, 43, 1829, 296, 4, 86, 320, 35, 534, 19, 263, 4821, 1301, 4, 1873, 33, 89, 78, 12, 66, 16, 4, 360, 7, 4, 58, 316, 334, 11, 4, 1716, 43, 645, 662, 8, 257, 85, 1200, 42, 1228, 2578, 83, 68, 3912, 15, 36, 165, 1539, 278, 36, 69, 44076, 780, 8, 106, 14, 6905, 1338, 18, 6, 22, 12, 215, 28, 610, 40, 6, 87, 326, 23, 2300, 21, 23, 22, 12, 272, 40, 57, 31, 11, 4, 22, 47, 6, 2307, 51, 9, 170, 23, 595, 116, 595, 1352, 13, 191, 79, 638, 89, 51428, 14, 9, 8, 106, 607, 624, 35, 534, 6, 227, 7, 129, 113])\n",
            " list([1, 249, 1323, 7, 61, 113, 10, 10, 13, 1637, 14, 20, 56, 33, 2401, 18, 457, 88, 13, 2626, 1400, 45, 3171, 13, 70, 79, 49, 706, 919, 13, 16, 355, 340, 355, 1696, 96, 143, 4, 22, 32, 289, 7, 61, 369, 71, 2359, 5, 13, 16, 131, 2073, 249, 114, 249, 229, 249, 20, 13, 28, 126, 110, 13, 473, 8, 569, 61, 419, 56, 429, 6, 1513, 18, 35, 534, 95, 474, 570, 5, 25, 124, 138, 88, 12, 421, 1543, 52, 725, 6397, 61, 419, 11, 13, 1571, 15, 1543, 20, 11, 4, 22016, 5, 296, 12, 3524, 5, 15, 421, 128, 74, 233, 334, 207, 126, 224, 12, 562, 298, 2167, 1272, 7, 2601, 5, 516, 988, 43, 8, 79, 120, 15, 595, 13, 784, 25, 3171, 18, 165, 170, 143, 19, 14, 5, 7224, 6, 226, 251, 7, 61, 113])]\n",
            "---------------\n",
            "Comparing first elements of the encoded back sequence and the main data:\n",
            "True\n",
            "True\n"
          ]
        }
      ]
    },
    {
      "cell_type": "markdown",
      "metadata": {
        "id": "en0No3y9s_8y"
      },
      "source": [
        "<p>* Now we have encoding and decoding for the sequences."
      ]
    },
    {
      "cell_type": "markdown",
      "metadata": {
        "id": "ionlx0ZInx_5"
      },
      "source": [
        "#### Observations:\n",
        "  * length of x_train sentences are: 9290\n",
        "  * length of full vocabulary used: 88584\n",
        "<hr>\n",
        "<h4>1) We get rid of the OOV</h4>"
      ]
    },
    {
      "cell_type": "code",
      "metadata": {
        "id": "CPGChLp9oCEB"
      },
      "source": [
        "# Getting rid of the Out of vocabulary words or very rare words.\n",
        "\n",
        "'''\n",
        "  1) \n",
        "'''\n",
        "def filterSeqs(sequences):\n",
        "\n",
        "  # from an array of vectros to array of strings\n",
        "  decoded_sequences = decodeSeqs(sequences)\n",
        "  \n",
        "  i = 0\n",
        "  for sent in decoded_sequences:\n",
        "    # getting the words in the sentence\n",
        "    tokens = sent.split()\n",
        "\n",
        "    # remove punctuation from each token\n",
        "    table = str.maketrans('', '', string.punctuation)\n",
        "    tokens = [w.translate(table) for w in tokens]\n",
        "    \n",
        "    # remove remaining tokens that are not alphabetic\n",
        "    tokens = [word for word in tokens if word.isalpha()]\n",
        "    \n",
        "    # filter out stop words\n",
        "    stop_words = set(stopwords.words('english'))\n",
        "    tokens = [w for w in tokens if not w in stop_words]\n",
        "    \n",
        "    # filter out short tokens\n",
        "    tokens = [word for word in tokens if len(word) > 1]\n",
        "\n",
        "    # filter out tokens that lost their mappings.\n",
        "    tokens = [word for word in tokens if word in imdb_word_index]\n",
        "\n",
        "    # Building up the sentence after cleaning it.\n",
        "    built_sent = \" \".join(tokens)\n",
        "\n",
        "    # overwritting the sentence in the sequences.\n",
        "    decoded_sequences[i] = built_sent\n",
        "    i += 1\n",
        "  return encodeSeqs(decoded_sequences)\n",
        "\n"
      ],
      "execution_count": 29,
      "outputs": []
    },
    {
      "cell_type": "code",
      "metadata": {
        "colab": {
          "base_uri": "https://localhost:8080/"
        },
        "id": "oMmr9TbHu_VH",
        "outputId": "09729725-3df4-4193-c116-200719af1283"
      },
      "source": [
        "temp = filterSeqs(x_train[:3])\n",
        "print(decodeSeqs(temp))"
      ],
      "execution_count": 30,
      "outputs": [
        {
          "output_type": "stream",
          "name": "stdout",
          "text": [
            "['br sure many br proving women doesnt never hat night ignored bad superman plays star stories film comes defense date wide dont hollywood br seeing fan pop body shots cause stick passing first enjoys look seven sense superimposition die character cuban issues isnt one song less strongly different even eight part films love films big also light dont wrangling character looked cinematography stories far br man acting', 'sure themes br acting favourite hat already scares minor flash well also good older enjoy used enjoy phone im job br women robot unexpected sure little sure guy sure one life children particularly yes sort jerry stories final known supposed imagination moving antonioni yes seconds imagination reptiles plays nights supposed still last fan always bit strong said clean knowing br theory car masterpiece also show films tale flash look part im film penelope script hard br acting', 'effort still usually makes finished sucking ended though something know novel female slowly lot freshened connect script end deceptively']\n"
          ]
        }
      ]
    },
    {
      "cell_type": "code",
      "metadata": {
        "id": "qRWQ_wDVwiST"
      },
      "source": [
        "x_train_filtered = filterSeqs(x_train)"
      ],
      "execution_count": 31,
      "outputs": []
    },
    {
      "cell_type": "markdown",
      "metadata": {
        "id": "b8-EKmJTw2He"
      },
      "source": [
        "<hr>\n",
        "<h4>2) Create new training dataset with the GLoVE representations.</h4>"
      ]
    },
    {
      "cell_type": "code",
      "metadata": {
        "id": "O3j1GRyzz5kr"
      },
      "source": [
        "def seqGlove(sequences):\n",
        "  decoded_sequences = decodeSeqs(sequences)\n",
        "  ret = []\n",
        "  for sentence in decoded_sequences:\n",
        "\n",
        "    # tokens of the sentnence\n",
        "    words = sentence.split()\n",
        "\n",
        "    # the glove representation of the sentence. Now sentence is: (n, 50)\n",
        "    sent_vectorized = np.array([np.array(gloove68_vectors[word]) for word in words if word in gloove68_vectors])\n",
        "\n",
        "    # Padding the sentence for remedy and make it constance size (150)\n",
        "    padding = np.array([ np.zeros(50) for i in range(len(sent_vectorized), MAXLEN)])\n",
        "    final_sent_vect = np.append(sent_vectorized, padding, axis=0)\n",
        "\n",
        "    # appending the current vectorized sequence to the \"ret\"\n",
        "    if(np.sum(np.sum(final_sent_vect)) != 0):\n",
        "      ret.append(final_sent_vect)\n",
        "  return np.array(ret)\n"
      ],
      "execution_count": 32,
      "outputs": []
    },
    {
      "cell_type": "code",
      "metadata": {
        "colab": {
          "base_uri": "https://localhost:8080/"
        },
        "id": "xTxNEWgd1plJ",
        "outputId": "75d74683-2dc0-4b70-e8de-36af6cb3b272"
      },
      "source": [
        "temp1 = seqGlove(x_train_filtered[:2])\n",
        "print(temp1.shape)\n",
        "print(temp1[0][0])\n",
        "print(temp1[0][149])"
      ],
      "execution_count": 33,
      "outputs": [
        {
          "output_type": "stream",
          "name": "stdout",
          "text": [
            "(2, 150, 50)\n",
            "[-0.17168   0.3855    0.50195  -0.58935  -1.0504    0.31327   0.12463\n",
            " -1.36     -1.2506   -0.94656   0.28644   1.2532   -0.54125  -0.25494\n",
            " -0.69635   0.15366  -0.9228    0.70842  -0.38708   0.45516  -0.26158\n",
            " -0.82918   0.45284   0.46074  -0.60629   0.31825  -0.56607   0.19254\n",
            " -0.22289   0.15175   0.37615   0.15187   0.78425   1.1723    0.44189\n",
            " -0.17558   0.83528  -0.76923  -0.19997   0.50355   0.70561  -0.31922\n",
            "  0.20774   0.030179 -0.31608  -0.20886   0.020144 -0.19314   0.60182\n",
            "  0.71473 ]\n",
            "[0. 0. 0. 0. 0. 0. 0. 0. 0. 0. 0. 0. 0. 0. 0. 0. 0. 0. 0. 0. 0. 0. 0. 0.\n",
            " 0. 0. 0. 0. 0. 0. 0. 0. 0. 0. 0. 0. 0. 0. 0. 0. 0. 0. 0. 0. 0. 0. 0. 0.\n",
            " 0. 0.]\n"
          ]
        }
      ]
    },
    {
      "cell_type": "code",
      "metadata": {
        "colab": {
          "base_uri": "https://localhost:8080/"
        },
        "id": "hRvHCXk1w8yP",
        "outputId": "cb634e8a-56b5-4d10-c174-ef1b0e45659f"
      },
      "source": [
        "vectorized_training_data = seqGlove(x_train_filtered)\n",
        "print(vectorized_training_data.shape)"
      ],
      "execution_count": 34,
      "outputs": [
        {
          "output_type": "stream",
          "name": "stdout",
          "text": [
            "(9290, 150, 50)\n"
          ]
        }
      ]
    },
    {
      "cell_type": "markdown",
      "metadata": {
        "id": "OGndIR_JGvhP"
      },
      "source": [
        "#### Getting the mean of the sentences."
      ]
    },
    {
      "cell_type": "code",
      "metadata": {
        "colab": {
          "base_uri": "https://localhost:8080/"
        },
        "id": "Swq2D__bGup1",
        "outputId": "0e4ef886-217c-4e61-bb1c-91552af9f2c9"
      },
      "source": [
        "meaned_training_data = np.array([np.mean(glove_seq[:], axis=0) for glove_seq in vectorized_training_data] )\n",
        "print(meaned_training_data.shape)"
      ],
      "execution_count": 35,
      "outputs": [
        {
          "output_type": "stream",
          "name": "stdout",
          "text": [
            "(9290, 50)\n"
          ]
        }
      ]
    },
    {
      "cell_type": "markdown",
      "metadata": {
        "id": "7Ltr3hf_77mx"
      },
      "source": [
        "<h2> Finally, we have our data ready to be inserted into the Machine learning model!!</h2>\n",
        "<ol> Revision and conclusion of this section: \n",
        "  <li>we downloaded the imdb indices data</li>\n",
        "  <li>We downloaded the word->index and created index->word conversions for the imdb data</li>\n",
        "  <li>We created encoding and decoding functionalities to be able to retrieve words or indices representation of the data</li>\n",
        "  <li>We cleaned the data from the punctuation errors and out of vocabulary errors</li>\n",
        "  <li>We transformed the data into a GLoVE representative data. </li>\n",
        "  <li>We made the data dimensions constant by inserting padding into the sentences. Thus, data dimensions are now (n_sentences, 150_gloove_words, 50_dimension_per_word)</li>\n",
        "  <li>We got the mean of each sentence vectors. Thus, the dimensions of the train data is: (n_samples, 50). The 50 represents means element wise.</li>\n",
        "</ol>\n",
        "<hr>"
      ]
    },
    {
      "cell_type": "markdown",
      "metadata": {
        "id": "TB9nIH6__RBM"
      },
      "source": [
        "<h2>Creating a simple neural netowork and train it on 20/25 iterations (epochs). </h2>\n",
        "<h4>Model comprimises of: </h4>\n",
        "<ul>\n",
        "<li>Dense(256, relu)</li>\n",
        "<li>Dense(64, relu)</li>\n",
        "<li>Dense(1, sigmoid)</li>\n",
        "</ul>\n",
        "Note: Use default parameters in the compile: 'adam', 'binary_crossentropy', 'accuracy' metric. Train for 20-25 epochs."
      ]
    },
    {
      "cell_type": "code",
      "metadata": {
        "colab": {
          "base_uri": "https://localhost:8080/"
        },
        "id": "qg2VbSg1EwM8",
        "outputId": "8b4abd4e-5e6e-4ee8-e651-289a227118a0"
      },
      "source": [
        "print(len(vectorized_training_data))"
      ],
      "execution_count": 37,
      "outputs": [
        {
          "output_type": "stream",
          "name": "stdout",
          "text": [
            "9290\n"
          ]
        }
      ]
    },
    {
      "cell_type": "code",
      "metadata": {
        "id": "pfRsTrYT9oq0",
        "colab": {
          "base_uri": "https://localhost:8080/"
        },
        "outputId": "518189f8-d9c0-4eb9-b938-da8e7c3b2a50"
      },
      "source": [
        "nn_model = tf.keras.Sequential([\n",
        "    tf.keras.layers.Dense(256, activation='relu', input_shape=(None, 50)),\n",
        "    tf.keras.layers.Dense(64, activation='relu'),\n",
        "    tf.keras.layers.Dense(1, activation=\"sigmoid\")\n",
        "])\n",
        "nn_model.summary()"
      ],
      "execution_count": 38,
      "outputs": [
        {
          "output_type": "stream",
          "name": "stdout",
          "text": [
            "Model: \"sequential\"\n",
            "_________________________________________________________________\n",
            " Layer (type)                Output Shape              Param #   \n",
            "=================================================================\n",
            " dense (Dense)               (None, None, 256)         13056     \n",
            "                                                                 \n",
            " dense_1 (Dense)             (None, None, 64)          16448     \n",
            "                                                                 \n",
            " dense_2 (Dense)             (None, None, 1)           65        \n",
            "                                                                 \n",
            "=================================================================\n",
            "Total params: 29,569\n",
            "Trainable params: 29,569\n",
            "Non-trainable params: 0\n",
            "_________________________________________________________________\n"
          ]
        }
      ]
    },
    {
      "cell_type": "code",
      "metadata": {
        "id": "j6IDP-v9Cw__"
      },
      "source": [
        "# Our vectorized labels\n",
        "y_train_reshaped = np.asarray(y_train).astype('float32').reshape((-1,1))\n",
        "y_test_reshaped = np.asarray(y_test).astype('float32').reshape((-1,1))"
      ],
      "execution_count": 39,
      "outputs": []
    },
    {
      "cell_type": "code",
      "metadata": {
        "id": "rLAN1iSPAWfg",
        "colab": {
          "base_uri": "https://localhost:8080/"
        },
        "outputId": "c6f33d87-cb37-44fb-8c92-7a4075b71b26"
      },
      "source": [
        "nn_model.compile(loss=\"binary_crossentropy\",optimizer=\"adam\",metrics=['acc'])\n",
        "\n",
        "history = nn_model.fit(meaned_training_data, y_train_reshaped , epochs=25, validation_split=0.2)"
      ],
      "execution_count": 40,
      "outputs": [
        {
          "output_type": "stream",
          "name": "stdout",
          "text": [
            "Epoch 1/25\n",
            "WARNING:tensorflow:Model was constructed with shape (None, None, 50) for input KerasTensor(type_spec=TensorSpec(shape=(None, None, 50), dtype=tf.float32, name='dense_input'), name='dense_input', description=\"created by layer 'dense_input'\"), but it was called on an input with incompatible shape (None, 50).\n",
            "WARNING:tensorflow:Model was constructed with shape (None, None, 50) for input KerasTensor(type_spec=TensorSpec(shape=(None, None, 50), dtype=tf.float32, name='dense_input'), name='dense_input', description=\"created by layer 'dense_input'\"), but it was called on an input with incompatible shape (None, 50).\n",
            "225/233 [===========================>..] - ETA: 0s - loss: 0.6885 - acc: 0.5421WARNING:tensorflow:Model was constructed with shape (None, None, 50) for input KerasTensor(type_spec=TensorSpec(shape=(None, None, 50), dtype=tf.float32, name='dense_input'), name='dense_input', description=\"created by layer 'dense_input'\"), but it was called on an input with incompatible shape (None, 50).\n",
            "233/233 [==============================] - 4s 6ms/step - loss: 0.6882 - acc: 0.5428 - val_loss: 0.6777 - val_acc: 0.5791\n",
            "Epoch 2/25\n",
            "233/233 [==============================] - 1s 5ms/step - loss: 0.6782 - acc: 0.5748 - val_loss: 0.6722 - val_acc: 0.5947\n",
            "Epoch 3/25\n",
            "233/233 [==============================] - 1s 5ms/step - loss: 0.6709 - acc: 0.5885 - val_loss: 0.6807 - val_acc: 0.5743\n",
            "Epoch 4/25\n",
            "233/233 [==============================] - 1s 5ms/step - loss: 0.6698 - acc: 0.5907 - val_loss: 0.6696 - val_acc: 0.5904\n",
            "Epoch 5/25\n",
            "233/233 [==============================] - 1s 5ms/step - loss: 0.6679 - acc: 0.5924 - val_loss: 0.6654 - val_acc: 0.5990\n",
            "Epoch 6/25\n",
            "233/233 [==============================] - 1s 5ms/step - loss: 0.6658 - acc: 0.5957 - val_loss: 0.6703 - val_acc: 0.5947\n",
            "Epoch 7/25\n",
            "233/233 [==============================] - 1s 5ms/step - loss: 0.6664 - acc: 0.5962 - val_loss: 0.6631 - val_acc: 0.6093\n",
            "Epoch 8/25\n",
            "233/233 [==============================] - 1s 5ms/step - loss: 0.6638 - acc: 0.6008 - val_loss: 0.6713 - val_acc: 0.5850\n",
            "Epoch 9/25\n",
            "233/233 [==============================] - 1s 5ms/step - loss: 0.6639 - acc: 0.6000 - val_loss: 0.6726 - val_acc: 0.5823\n",
            "Epoch 10/25\n",
            "233/233 [==============================] - 1s 5ms/step - loss: 0.6625 - acc: 0.6004 - val_loss: 0.6626 - val_acc: 0.6093\n",
            "Epoch 11/25\n",
            "233/233 [==============================] - 1s 5ms/step - loss: 0.6616 - acc: 0.6029 - val_loss: 0.6623 - val_acc: 0.6098\n",
            "Epoch 12/25\n",
            "233/233 [==============================] - 1s 5ms/step - loss: 0.6613 - acc: 0.6045 - val_loss: 0.6634 - val_acc: 0.6001\n",
            "Epoch 13/25\n",
            "233/233 [==============================] - 1s 5ms/step - loss: 0.6611 - acc: 0.6029 - val_loss: 0.6628 - val_acc: 0.6076\n",
            "Epoch 14/25\n",
            "233/233 [==============================] - 1s 5ms/step - loss: 0.6590 - acc: 0.6114 - val_loss: 0.6629 - val_acc: 0.5985\n",
            "Epoch 15/25\n",
            "233/233 [==============================] - 1s 5ms/step - loss: 0.6573 - acc: 0.6075 - val_loss: 0.6639 - val_acc: 0.5947\n",
            "Epoch 16/25\n",
            "233/233 [==============================] - 1s 5ms/step - loss: 0.6583 - acc: 0.6110 - val_loss: 0.6668 - val_acc: 0.5942\n",
            "Epoch 17/25\n",
            "233/233 [==============================] - 1s 5ms/step - loss: 0.6569 - acc: 0.6074 - val_loss: 0.6614 - val_acc: 0.6060\n",
            "Epoch 18/25\n",
            "233/233 [==============================] - 1s 5ms/step - loss: 0.6550 - acc: 0.6080 - val_loss: 0.6650 - val_acc: 0.5936\n",
            "Epoch 19/25\n",
            "233/233 [==============================] - 1s 5ms/step - loss: 0.6540 - acc: 0.6160 - val_loss: 0.6609 - val_acc: 0.6023\n",
            "Epoch 20/25\n",
            "233/233 [==============================] - 1s 5ms/step - loss: 0.6533 - acc: 0.6146 - val_loss: 0.6631 - val_acc: 0.6039\n",
            "Epoch 21/25\n",
            "233/233 [==============================] - 1s 5ms/step - loss: 0.6530 - acc: 0.6188 - val_loss: 0.6624 - val_acc: 0.6060\n",
            "Epoch 22/25\n",
            "233/233 [==============================] - 1s 5ms/step - loss: 0.6519 - acc: 0.6192 - val_loss: 0.6634 - val_acc: 0.6001\n",
            "Epoch 23/25\n",
            "233/233 [==============================] - 1s 5ms/step - loss: 0.6503 - acc: 0.6187 - val_loss: 0.6635 - val_acc: 0.6066\n",
            "Epoch 24/25\n",
            "233/233 [==============================] - 1s 5ms/step - loss: 0.6479 - acc: 0.6231 - val_loss: 0.6643 - val_acc: 0.5947\n",
            "Epoch 25/25\n",
            "233/233 [==============================] - 1s 5ms/step - loss: 0.6468 - acc: 0.6259 - val_loss: 0.6679 - val_acc: 0.5969\n"
          ]
        }
      ]
    },
    {
      "cell_type": "code",
      "metadata": {
        "id": "p8cwYaX8Du5I"
      },
      "source": [
        "# Preprocessing the test data as...\n",
        "x_test_filtered = filterSeqs(x_test)\n",
        "vectorized_test_data = seqGlove(x_test_filtered)\n",
        "meaned_test_data = np.array([np.mean(glove_seq[:], axis=0) for glove_seq in vectorized_test_data] )"
      ],
      "execution_count": 41,
      "outputs": []
    },
    {
      "cell_type": "code",
      "metadata": {
        "id": "S-IhzBhsDq91",
        "colab": {
          "base_uri": "https://localhost:8080/"
        },
        "outputId": "57603eb0-e30a-4999-9868-648afc289352"
      },
      "source": [
        "results = nn_model.evaluate(meaned_test_data, y_test_reshaped)\n",
        "print(results)"
      ],
      "execution_count": 42,
      "outputs": [
        {
          "output_type": "stream",
          "name": "stdout",
          "text": [
            "304/304 [==============================] - 1s 3ms/step - loss: 0.6711 - acc: 0.5897\n",
            "[0.6711401343345642, 0.589653730392456]\n"
          ]
        }
      ]
    },
    {
      "cell_type": "code",
      "metadata": {
        "id": "4hKdx08sEWde",
        "colab": {
          "base_uri": "https://localhost:8080/"
        },
        "outputId": "3b157157-0db3-492d-9f62-32870ee131b0"
      },
      "source": [
        "prediction = nn_model.predict(meaned_test_data[:1])\n",
        "print(prediction, y_test_reshaped[0]  )"
      ],
      "execution_count": 43,
      "outputs": [
        {
          "output_type": "stream",
          "name": "stdout",
          "text": [
            "WARNING:tensorflow:Model was constructed with shape (None, None, 50) for input KerasTensor(type_spec=TensorSpec(shape=(None, None, 50), dtype=tf.float32, name='dense_input'), name='dense_input', description=\"created by layer 'dense_input'\"), but it was called on an input with incompatible shape (None, 50).\n",
            "[[0.4656965]] [0.]\n"
          ]
        }
      ]
    },
    {
      "cell_type": "markdown",
      "metadata": {
        "id": "65UHO274Iz22"
      },
      "source": [
        "<h2>Conclusion of 2nd Task:</h2>\n",
        "<p>The Accuracy after training the simple neural network model with the preprocessed data was ~58%. A good task would be to increaase the Epochs, test the model with different layers, and plot its changings. However, this is a HW and the constructor didn't ask for it, so it is less prioirity. However, if I have time I will implement it in the future.</p>"
      ]
    },
    {
      "cell_type": "markdown",
      "metadata": {
        "id": "fP9cWk-LJxYN"
      },
      "source": [
        "<br>\n",
        "<hr>\n",
        "<br>"
      ]
    },
    {
      "cell_type": "markdown",
      "metadata": {
        "id": "fTnjyQhyJ1Ks"
      },
      "source": [
        "# 3) Sequence modeling with LSTM."
      ]
    },
    {
      "cell_type": "code",
      "metadata": {
        "id": "PsXx3sQGJbdb",
        "colab": {
          "base_uri": "https://localhost:8080/"
        },
        "outputId": "08fe6d2b-c082-4c6c-d84c-3e6a64cea599"
      },
      "source": [
        "lstm_model = tf.keras.Sequential([\n",
        "    tf.keras.layers.Bidirectional(tf.keras.layers.LSTM(64, return_sequences=True), input_shape=(150, 50)),\n",
        "    tf.keras.layers.Bidirectional(tf.keras.layers.LSTM(64)),\n",
        "    tf.keras.layers.Dense(64, activation='relu'),\n",
        "    tf.keras.layers.Dense(1, activation='sigmoid')\n",
        "])\n",
        "lstm_model.summary()"
      ],
      "execution_count": 50,
      "outputs": [
        {
          "output_type": "stream",
          "name": "stdout",
          "text": [
            "Model: \"sequential_3\"\n",
            "_________________________________________________________________\n",
            " Layer (type)                Output Shape              Param #   \n",
            "=================================================================\n",
            " bidirectional_5 (Bidirectio  (None, 150, 128)         58880     \n",
            " nal)                                                            \n",
            "                                                                 \n",
            " bidirectional_6 (Bidirectio  (None, 128)              98816     \n",
            " nal)                                                            \n",
            "                                                                 \n",
            " dense_7 (Dense)             (None, 64)                8256      \n",
            "                                                                 \n",
            " dense_8 (Dense)             (None, 1)                 65        \n",
            "                                                                 \n",
            "=================================================================\n",
            "Total params: 166,017\n",
            "Trainable params: 166,017\n",
            "Non-trainable params: 0\n",
            "_________________________________________________________________\n"
          ]
        }
      ]
    },
    {
      "cell_type": "code",
      "metadata": {
        "colab": {
          "base_uri": "https://localhost:8080/"
        },
        "id": "wwffbKiCSfNH",
        "outputId": "73bd6ae7-39fb-4257-a232-5bc73e5e33b6"
      },
      "source": [
        "lstm_model.compile(loss=\"binary_crossentropy\",optimizer=\"adam\",metrics=['acc'])\n",
        "\n",
        "history = lstm_model.fit(vectorized_training_data, y_train_reshaped , epochs=25, validation_split=0.2)"
      ],
      "execution_count": 52,
      "outputs": [
        {
          "output_type": "stream",
          "name": "stdout",
          "text": [
            "Epoch 1/25\n",
            "233/233 [==============================] - 45s 156ms/step - loss: 0.6888 - acc: 0.5332 - val_loss: 0.6816 - val_acc: 0.5748\n",
            "Epoch 2/25\n",
            "233/233 [==============================] - 34s 147ms/step - loss: 0.6720 - acc: 0.5900 - val_loss: 0.6582 - val_acc: 0.6211\n",
            "Epoch 3/25\n",
            "233/233 [==============================] - 34s 147ms/step - loss: 0.6531 - acc: 0.6169 - val_loss: 0.6654 - val_acc: 0.5834\n",
            "Epoch 4/25\n",
            "233/233 [==============================] - 34s 148ms/step - loss: 0.6315 - acc: 0.6492 - val_loss: 0.6399 - val_acc: 0.6378\n",
            "Epoch 5/25\n",
            "233/233 [==============================] - 34s 147ms/step - loss: 0.6056 - acc: 0.6728 - val_loss: 0.6267 - val_acc: 0.6545\n",
            "Epoch 6/25\n",
            "233/233 [==============================] - 34s 147ms/step - loss: 0.5509 - acc: 0.7220 - val_loss: 0.6258 - val_acc: 0.6577\n",
            "Epoch 7/25\n",
            "233/233 [==============================] - 34s 147ms/step - loss: 0.5349 - acc: 0.7363 - val_loss: 0.5864 - val_acc: 0.6938\n",
            "Epoch 8/25\n",
            "233/233 [==============================] - 34s 147ms/step - loss: 0.4774 - acc: 0.7719 - val_loss: 0.5941 - val_acc: 0.7045\n",
            "Epoch 9/25\n",
            "233/233 [==============================] - 34s 147ms/step - loss: 0.4213 - acc: 0.8096 - val_loss: 0.5893 - val_acc: 0.7126\n",
            "Epoch 10/25\n",
            "233/233 [==============================] - 34s 147ms/step - loss: 0.3910 - acc: 0.8271 - val_loss: 0.5971 - val_acc: 0.7072\n",
            "Epoch 11/25\n",
            "233/233 [==============================] - 34s 147ms/step - loss: 0.3301 - acc: 0.8583 - val_loss: 0.6530 - val_acc: 0.7228\n",
            "Epoch 12/25\n",
            "233/233 [==============================] - 34s 147ms/step - loss: 0.2842 - acc: 0.8819 - val_loss: 0.7146 - val_acc: 0.6889\n",
            "Epoch 13/25\n",
            "233/233 [==============================] - 34s 148ms/step - loss: 0.2323 - acc: 0.9078 - val_loss: 0.7852 - val_acc: 0.7013\n",
            "Epoch 14/25\n",
            "233/233 [==============================] - 34s 146ms/step - loss: 0.1915 - acc: 0.9228 - val_loss: 0.9669 - val_acc: 0.6873\n",
            "Epoch 15/25\n",
            "233/233 [==============================] - 34s 146ms/step - loss: 0.1422 - acc: 0.9442 - val_loss: 1.0706 - val_acc: 0.6808\n",
            "Epoch 16/25\n",
            "233/233 [==============================] - 34s 146ms/step - loss: 0.0898 - acc: 0.9657 - val_loss: 1.2833 - val_acc: 0.6851\n",
            "Epoch 17/25\n",
            "233/233 [==============================] - 34s 147ms/step - loss: 0.0918 - acc: 0.9639 - val_loss: 1.2239 - val_acc: 0.6959\n",
            "Epoch 18/25\n",
            "233/233 [==============================] - 34s 147ms/step - loss: 0.0737 - acc: 0.9717 - val_loss: 1.4588 - val_acc: 0.6975\n",
            "Epoch 19/25\n",
            "233/233 [==============================] - 34s 147ms/step - loss: 0.0479 - acc: 0.9840 - val_loss: 1.5281 - val_acc: 0.6927\n",
            "Epoch 20/25\n",
            "233/233 [==============================] - 34s 148ms/step - loss: 0.0426 - acc: 0.9859 - val_loss: 1.6218 - val_acc: 0.6884\n",
            "Epoch 21/25\n",
            "233/233 [==============================] - 34s 147ms/step - loss: 0.0505 - acc: 0.9818 - val_loss: 1.6629 - val_acc: 0.6997\n",
            "Epoch 22/25\n",
            "233/233 [==============================] - 34s 147ms/step - loss: 0.0407 - acc: 0.9865 - val_loss: 1.6146 - val_acc: 0.6862\n",
            "Epoch 23/25\n",
            "233/233 [==============================] - 34s 146ms/step - loss: 0.0251 - acc: 0.9904 - val_loss: 2.0796 - val_acc: 0.6539\n",
            "Epoch 24/25\n",
            "233/233 [==============================] - 34s 147ms/step - loss: 0.0329 - acc: 0.9884 - val_loss: 1.7722 - val_acc: 0.6787\n",
            "Epoch 25/25\n",
            "233/233 [==============================] - 34s 147ms/step - loss: 0.0258 - acc: 0.9904 - val_loss: 2.0092 - val_acc: 0.7013\n"
          ]
        }
      ]
    },
    {
      "cell_type": "markdown",
      "metadata": {
        "id": "GjpuwSBnUwev"
      },
      "source": [
        "<p>* Observation: After the 10th epoch, the model seems to start overfitting the training data. And at the 20th it start to fully overfit the training data with ~99% accuracy</p>"
      ]
    },
    {
      "cell_type": "code",
      "metadata": {
        "colab": {
          "base_uri": "https://localhost:8080/"
        },
        "id": "CAlle1lkU_SG",
        "outputId": "92713af9-f345-4d71-f514-466530cf5395"
      },
      "source": [
        "results = lstm_model.evaluate(vectorized_test_data, y_test_reshaped)\n",
        "print(results)"
      ],
      "execution_count": 53,
      "outputs": [
        {
          "output_type": "stream",
          "name": "stdout",
          "text": [
            "304/304 [==============================] - 18s 60ms/step - loss: 2.2310 - acc: 0.6814\n",
            "[2.230994939804077, 0.6813685297966003]\n"
          ]
        }
      ]
    },
    {
      "cell_type": "markdown",
      "metadata": {
        "id": "TGztJnXCW_V3"
      },
      "source": [
        "# Conclusion:\n",
        "<p>Bidicetional LSTM results have outcomed the simple Neural network that we implemented in Task2 by almost a ~10% more accuracy.</p>"
      ]
    },
    {
      "cell_type": "code",
      "metadata": {
        "id": "2u0nE_h9Xdvv"
      },
      "source": [
        ""
      ],
      "execution_count": null,
      "outputs": []
    }
  ]
}